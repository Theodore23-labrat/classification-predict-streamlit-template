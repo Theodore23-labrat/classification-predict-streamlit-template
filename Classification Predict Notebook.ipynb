{
 "cells": [
  {
   "cell_type": "markdown",
   "id": "c6edc204",
   "metadata": {},
   "source": [
    "# EDSA - Twitter Sentiment Classification"
   ]
  },
  {
   "cell_type": "markdown",
   "id": "b3f0ace5",
   "metadata": {},
   "source": [
    "### Climate Change Belief Analysis 2022 "
   ]
  },
  {
   "cell_type": "markdown",
   "id": "03099afc",
   "metadata": {},
   "source": [
    "### Predict an individual’s belief in climate change based on historical tweet data"
   ]
  },
  {
   "cell_type": "markdown",
   "id": "fa731681",
   "metadata": {},
   "source": [
    "#### Executed by: TeamMH1-ExploreAl Climate Change Belief Analysis 2022"
   ]
  },
  {
   "cell_type": "markdown",
   "id": "0b39399b",
   "metadata": {},
   "source": [
    "Members"
   ]
  },
  {
   "cell_type": "markdown",
   "id": "0324cad6",
   "metadata": {},
   "source": [
    "### Predict Overview: EDSA - Twitter Sentiment Classification\n",
    "\n",
    "Many companies are built around lessening one’s environmental impact or carbon footprint. They offer products and services that are environmentally friendly and sustainable, in line with their values and ideals. They would like to determine how people perceive climate change and whether or not they believe it is a real threat. This would add to their market research efforts in gauging how their product/service may be received.\n",
    "\n",
    "With this context, EDSA is challenging you during the Classification Sprint with the task of creating a Machine Learning model that is able to classify whether or not a person believes in climate change, based on their novel tweet data.\n",
    "\n",
    "Providing an accurate and robust solution to this task gives companies access to a broad base of consumer sentiment, spanning multiple demographic and geographic categories - thus increasing their insights and informing future marketing strategies."
   ]
  },
  {
   "cell_type": "markdown",
   "id": "6e57c07e",
   "metadata": {},
   "source": [
    "## Table of Contents\n",
    "\n",
    "<font color=blue> 1. Importing Packages</font>\n",
    "\n",
    "<font color=blue>2. Loading Data</font>\n",
    "\n",
    "<font color=blue>3. Exploratory Data Analysis (EDA)</font>\n",
    "\n",
    "<font color=blue>4. Sentiment Analysis</font>\n",
    "\n",
    "<font color=blue>5. Data Processing and Engineering</font>\n",
    "\n",
    "<font color=blue>6. Feature Engineering</font>\n",
    "\n",
    "<font color=blue>7. Modeling Building</font>\n",
    "\n",
    "<font color=blue>8. Model Performance</font>\n",
    "\n",
    "<font color=blue>9. Conclusion</font>\n",
    "\n",
    "<font color=blue>10. Export</font>\n",
    "\n",
    "<font color=blue>11. References</font>"
   ]
  },
  {
   "cell_type": "markdown",
   "id": "8449ef78",
   "metadata": {},
   "source": [
    "## 1. Importing Packages"
   ]
  },
  {
   "cell_type": "code",
   "execution_count": null,
   "id": "05039fd8",
   "metadata": {},
   "outputs": [],
   "source": [
    "# Packages for data analysis\n",
    "\n",
    "# Packages for visualisations\n",
    "\n",
    "# Packages for preprocessing\n",
    "\n",
    "# Packages for training models\n",
    "\n",
    "# Packages for hyperparameter optimisation\n",
    "\n",
    "# Packages for evaluating model accuracy\n",
    "\n",
    "# Packages for saving models"
   ]
  },
  {
   "cell_type": "markdown",
   "id": "483d51d1",
   "metadata": {},
   "source": [
    "## 2. Loading the Data"
   ]
  },
  {
   "cell_type": "code",
   "execution_count": null,
   "id": "c9f9ec51",
   "metadata": {},
   "outputs": [],
   "source": [
    "# Load Data"
   ]
  },
  {
   "cell_type": "code",
   "execution_count": null,
   "id": "29529c6f",
   "metadata": {},
   "outputs": [],
   "source": []
  },
  {
   "cell_type": "markdown",
   "id": "db05c369",
   "metadata": {},
   "source": [
    "## 4. Exploratory Data Analysis (EDA)"
   ]
  },
  {
   "cell_type": "code",
   "execution_count": null,
   "id": "e55e6241",
   "metadata": {},
   "outputs": [],
   "source": []
  },
  {
   "cell_type": "code",
   "execution_count": null,
   "id": "06a5f5fa",
   "metadata": {},
   "outputs": [],
   "source": []
  },
  {
   "cell_type": "code",
   "execution_count": null,
   "id": "583b86eb",
   "metadata": {},
   "outputs": [],
   "source": []
  },
  {
   "cell_type": "code",
   "execution_count": null,
   "id": "8750a4a8",
   "metadata": {},
   "outputs": [],
   "source": []
  },
  {
   "cell_type": "markdown",
   "id": "c149b1e7",
   "metadata": {},
   "source": [
    "## 5. Data Processing and Engineering"
   ]
  },
  {
   "cell_type": "code",
   "execution_count": null,
   "id": "5ffe5300",
   "metadata": {},
   "outputs": [],
   "source": []
  },
  {
   "cell_type": "code",
   "execution_count": null,
   "id": "173ab1f4",
   "metadata": {},
   "outputs": [],
   "source": []
  },
  {
   "cell_type": "code",
   "execution_count": null,
   "id": "7bf22984",
   "metadata": {},
   "outputs": [],
   "source": []
  },
  {
   "cell_type": "code",
   "execution_count": null,
   "id": "36a50f04",
   "metadata": {},
   "outputs": [],
   "source": []
  },
  {
   "cell_type": "markdown",
   "id": "454fd534",
   "metadata": {},
   "source": [
    "## 6. Feature Engineering"
   ]
  },
  {
   "cell_type": "code",
   "execution_count": null,
   "id": "3879899a",
   "metadata": {},
   "outputs": [],
   "source": []
  },
  {
   "cell_type": "code",
   "execution_count": null,
   "id": "9591cd46",
   "metadata": {},
   "outputs": [],
   "source": []
  },
  {
   "cell_type": "code",
   "execution_count": null,
   "id": "d303ea90",
   "metadata": {},
   "outputs": [],
   "source": []
  },
  {
   "cell_type": "code",
   "execution_count": null,
   "id": "d7216a33",
   "metadata": {},
   "outputs": [],
   "source": []
  },
  {
   "cell_type": "markdown",
   "id": "78ba49c0",
   "metadata": {},
   "source": [
    "## 7. Modeling building"
   ]
  },
  {
   "cell_type": "code",
   "execution_count": null,
   "id": "3b735731",
   "metadata": {},
   "outputs": [],
   "source": []
  },
  {
   "cell_type": "code",
   "execution_count": null,
   "id": "d3cccfac",
   "metadata": {},
   "outputs": [],
   "source": []
  },
  {
   "cell_type": "code",
   "execution_count": null,
   "id": "75c5855b",
   "metadata": {},
   "outputs": [],
   "source": []
  },
  {
   "cell_type": "markdown",
   "id": "b39aec2a",
   "metadata": {},
   "source": [
    "## 8. Model Performance"
   ]
  },
  {
   "cell_type": "code",
   "execution_count": null,
   "id": "b9305f1d",
   "metadata": {},
   "outputs": [],
   "source": []
  },
  {
   "cell_type": "code",
   "execution_count": null,
   "id": "497c3b41",
   "metadata": {},
   "outputs": [],
   "source": []
  },
  {
   "cell_type": "code",
   "execution_count": null,
   "id": "2b0601e4",
   "metadata": {},
   "outputs": [],
   "source": []
  },
  {
   "cell_type": "markdown",
   "id": "8d52a6e0",
   "metadata": {},
   "source": [
    "## 9. Conclusion"
   ]
  },
  {
   "cell_type": "code",
   "execution_count": null,
   "id": "92b6af11",
   "metadata": {},
   "outputs": [],
   "source": []
  },
  {
   "cell_type": "markdown",
   "id": "93dcd67f",
   "metadata": {},
   "source": [
    "## 10. Export"
   ]
  },
  {
   "cell_type": "code",
   "execution_count": null,
   "id": "8325e503",
   "metadata": {},
   "outputs": [],
   "source": []
  },
  {
   "cell_type": "markdown",
   "id": "7316481c",
   "metadata": {},
   "source": [
    "## 11. Reference"
   ]
  },
  {
   "cell_type": "code",
   "execution_count": null,
   "id": "190332af",
   "metadata": {},
   "outputs": [],
   "source": []
  }
 ],
 "metadata": {
  "kernelspec": {
   "display_name": "Python 3 (ipykernel)",
   "language": "python",
   "name": "python3"
  },
  "language_info": {
   "codemirror_mode": {
    "name": "ipython",
    "version": 3
   },
   "file_extension": ".py",
   "mimetype": "text/x-python",
   "name": "python",
   "nbconvert_exporter": "python",
   "pygments_lexer": "ipython3",
   "version": "3.9.12"
  }
 },
 "nbformat": 4,
 "nbformat_minor": 5
}
